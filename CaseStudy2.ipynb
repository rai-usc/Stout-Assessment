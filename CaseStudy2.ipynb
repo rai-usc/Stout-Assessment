{
 "cells": [
  {
   "cell_type": "markdown",
   "id": "86dbd783",
   "metadata": {},
   "source": [
    "Case Study #2<br>\n",
    "\n",
    "There is 1 dataset(csv) with 3 years worth of customer orders. There are 4 columns in the csv dataset: index, CUSTOMER_EMAIL(unique identifier as hash), Net_Revenue, and Year.\n",
    "For each year we need the following information:\n",
    "- Total revenue for the current year\n",
    "- New Customer Revenue e.g. new customers not present in previous year only\n",
    "- Existing Customer Growth. To calculate this, use the Revenue of existing customers for current year –(minus) Revenue of existing customers from the previous year\n",
    "- Revenue lost from attrition\n",
    "- Existing Customer Revenue Current Year\n",
    "- Existing Customer Revenue Prior Year\n",
    "- Total Customers Current Year\n",
    "- Total Customers Previous Year\n",
    "- New Customers\n",
    "- Lost Customers\n",
    "<br>\n",
    "Additionally, generate a few unique plots highlighting some information from the dataset. Are there any interesting observations?\n"
   ]
  },
  {
   "cell_type": "code",
   "execution_count": 1,
   "id": "87ef31a7",
   "metadata": {},
   "outputs": [],
   "source": [
    "import pandas as p\n",
    "import scipy.stats\n",
    "import numpy as n\n",
    "import datetime as dt\n",
    "import seaborn as sns\n",
    "import matplotlib.pyplot as plt\n",
    "import calendar\n",
    "import time\n",
    "from itertools import permutations\n",
    "import plotly.express as px\n",
    "import plotly.graph_objects as go\n",
    "%matplotlib inline\n"
   ]
  },
  {
   "cell_type": "code",
   "execution_count": 2,
   "id": "9f842fc0",
   "metadata": {},
   "outputs": [],
   "source": [
    "data = p.read_csv(\"casestudy.csv\")"
   ]
  },
  {
   "cell_type": "code",
   "execution_count": 3,
   "id": "8b127137",
   "metadata": {},
   "outputs": [
    {
     "data": {
      "text/html": [
       "<div>\n",
       "<style scoped>\n",
       "    .dataframe tbody tr th:only-of-type {\n",
       "        vertical-align: middle;\n",
       "    }\n",
       "\n",
       "    .dataframe tbody tr th {\n",
       "        vertical-align: top;\n",
       "    }\n",
       "\n",
       "    .dataframe thead th {\n",
       "        text-align: right;\n",
       "    }\n",
       "</style>\n",
       "<table border=\"1\" class=\"dataframe\">\n",
       "  <thead>\n",
       "    <tr style=\"text-align: right;\">\n",
       "      <th></th>\n",
       "      <th>Unnamed: 0</th>\n",
       "      <th>customer_email</th>\n",
       "      <th>net_revenue</th>\n",
       "      <th>year</th>\n",
       "    </tr>\n",
       "  </thead>\n",
       "  <tbody>\n",
       "    <tr>\n",
       "      <th>0</th>\n",
       "      <td>0</td>\n",
       "      <td>nhknapwsbx@gmail.com</td>\n",
       "      <td>249.92</td>\n",
       "      <td>2015</td>\n",
       "    </tr>\n",
       "    <tr>\n",
       "      <th>1</th>\n",
       "      <td>1</td>\n",
       "      <td>joiuzbvcpn@gmail.com</td>\n",
       "      <td>87.61</td>\n",
       "      <td>2015</td>\n",
       "    </tr>\n",
       "    <tr>\n",
       "      <th>2</th>\n",
       "      <td>2</td>\n",
       "      <td>ukkjctepxt@gmail.com</td>\n",
       "      <td>168.38</td>\n",
       "      <td>2015</td>\n",
       "    </tr>\n",
       "    <tr>\n",
       "      <th>3</th>\n",
       "      <td>3</td>\n",
       "      <td>gykatilzrt@gmail.com</td>\n",
       "      <td>62.40</td>\n",
       "      <td>2015</td>\n",
       "    </tr>\n",
       "    <tr>\n",
       "      <th>4</th>\n",
       "      <td>4</td>\n",
       "      <td>mmsgsrtxah@gmail.com</td>\n",
       "      <td>43.08</td>\n",
       "      <td>2015</td>\n",
       "    </tr>\n",
       "  </tbody>\n",
       "</table>\n",
       "</div>"
      ],
      "text/plain": [
       "   Unnamed: 0         customer_email  net_revenue  year\n",
       "0           0   nhknapwsbx@gmail.com       249.92  2015\n",
       "1           1   joiuzbvcpn@gmail.com        87.61  2015\n",
       "2           2   ukkjctepxt@gmail.com       168.38  2015\n",
       "3           3   gykatilzrt@gmail.com        62.40  2015\n",
       "4           4   mmsgsrtxah@gmail.com        43.08  2015"
      ]
     },
     "execution_count": 3,
     "metadata": {},
     "output_type": "execute_result"
    }
   ],
   "source": [
    "data.head()"
   ]
  },
  {
   "cell_type": "code",
   "execution_count": 4,
   "id": "c125f703",
   "metadata": {},
   "outputs": [
    {
     "name": "stdout",
     "output_type": "stream",
     "text": [
      "<class 'pandas.core.frame.DataFrame'>\n",
      "RangeIndex: 685927 entries, 0 to 685926\n",
      "Data columns (total 4 columns):\n",
      " #   Column          Non-Null Count   Dtype  \n",
      "---  ------          --------------   -----  \n",
      " 0   Unnamed: 0      685927 non-null  int64  \n",
      " 1   customer_email  685927 non-null  object \n",
      " 2   net_revenue     685927 non-null  float64\n",
      " 3   year            685927 non-null  int64  \n",
      "dtypes: float64(1), int64(2), object(1)\n",
      "memory usage: 20.9+ MB\n"
     ]
    }
   ],
   "source": [
    "data.info()"
   ]
  },
  {
   "cell_type": "code",
   "execution_count": 68,
   "id": "9528e074",
   "metadata": {},
   "outputs": [
    {
     "data": {
      "text/plain": [
       "(685927, 6)"
      ]
     },
     "execution_count": 68,
     "metadata": {},
     "output_type": "execute_result"
    }
   ],
   "source": [
    "data.shape"
   ]
  },
  {
   "cell_type": "code",
   "execution_count": 5,
   "id": "5601f82a",
   "metadata": {},
   "outputs": [
    {
     "data": {
      "text/plain": [
       "wtbxliuywf@gmail.com     3\n",
       "leafpkocos@gmail.com     3\n",
       "yutbpprfrj@gmail.com     3\n",
       "pwllhvbpzv@gmail.com     3\n",
       "ofysynyagn@gmail.com     3\n",
       "                        ..\n",
       " jzkxvcumhr@gmail.com    1\n",
       "gknvzmmwxi@gmail.com     1\n",
       "qjxzeiurgm@gmail.com     1\n",
       " srhiqoyxrk@gmail.com    1\n",
       " aregboumbw@gmail.com    1\n",
       "Name: customer_email, Length: 604618, dtype: int64"
      ]
     },
     "execution_count": 5,
     "metadata": {},
     "output_type": "execute_result"
    }
   ],
   "source": [
    "data['customer_email'].value_counts()"
   ]
  },
  {
   "cell_type": "code",
   "execution_count": 6,
   "id": "e50b079e",
   "metadata": {},
   "outputs": [],
   "source": [
    "data['customer_email'] = data['customer_email'].str.strip()"
   ]
  },
  {
   "cell_type": "code",
   "execution_count": 7,
   "id": "28fb41cb",
   "metadata": {},
   "outputs": [
    {
     "data": {
      "text/plain": [
       "219.89    49\n",
       "166.72    49\n",
       "51.33     48\n",
       "236.04    48\n",
       "198.61    48\n",
       "          ..\n",
       "62.88     11\n",
       "180.32    11\n",
       "126.29    11\n",
       "132.67    10\n",
       "186.22    10\n",
       "Name: net_revenue, Length: 24901, dtype: int64"
      ]
     },
     "execution_count": 7,
     "metadata": {},
     "output_type": "execute_result"
    }
   ],
   "source": [
    "data['net_revenue'].value_counts()"
   ]
  },
  {
   "cell_type": "code",
   "execution_count": 8,
   "id": "0c653838",
   "metadata": {},
   "outputs": [
    {
     "data": {
      "text/plain": [
       "2017    249987\n",
       "2015    231294\n",
       "2016    204646\n",
       "Name: year, dtype: int64"
      ]
     },
     "execution_count": 8,
     "metadata": {},
     "output_type": "execute_result"
    }
   ],
   "source": [
    "data['year'].value_counts()"
   ]
  },
  {
   "cell_type": "markdown",
   "id": "c637fc78",
   "metadata": {},
   "source": [
    "## Total revenue for current year (Assuming 2017 as current year)"
   ]
  },
  {
   "cell_type": "code",
   "execution_count": 59,
   "id": "39e60e04",
   "metadata": {},
   "outputs": [
    {
     "data": {
      "text/plain": [
       "31417495.03"
      ]
     },
     "execution_count": 59,
     "metadata": {},
     "output_type": "execute_result"
    }
   ],
   "source": [
    "data.groupby('year').net_revenue.sum().iloc[-1]"
   ]
  },
  {
   "cell_type": "markdown",
   "id": "b5ee25da",
   "metadata": {},
   "source": [
    "## New Customer Revenue e.g. new customers not present in previous year only"
   ]
  },
  {
   "cell_type": "code",
   "execution_count": 10,
   "id": "c0f78504",
   "metadata": {},
   "outputs": [],
   "source": [
    "cust_year_revenue = data.groupby(['customer_email','year']).net_revenue.sum()\n",
    "cust_year_revenue = cust_year_revenue.reset_index().sort_values(by = ['customer_email','year'])\n",
    "df_16 = cust_year_revenue[cust_year_revenue['year']==2016]"
   ]
  },
  {
   "cell_type": "code",
   "execution_count": 11,
   "id": "3208b5b2",
   "metadata": {},
   "outputs": [],
   "source": [
    "df_17 = cust_year_revenue[cust_year_revenue['year']==2017]"
   ]
  },
  {
   "cell_type": "code",
   "execution_count": 12,
   "id": "9304257d",
   "metadata": {},
   "outputs": [
    {
     "data": {
      "text/html": [
       "<div>\n",
       "<style scoped>\n",
       "    .dataframe tbody tr th:only-of-type {\n",
       "        vertical-align: middle;\n",
       "    }\n",
       "\n",
       "    .dataframe tbody tr th {\n",
       "        vertical-align: top;\n",
       "    }\n",
       "\n",
       "    .dataframe thead th {\n",
       "        text-align: right;\n",
       "    }\n",
       "</style>\n",
       "<table border=\"1\" class=\"dataframe\">\n",
       "  <thead>\n",
       "    <tr style=\"text-align: right;\">\n",
       "      <th></th>\n",
       "      <th>customer_email</th>\n",
       "      <th>year_x</th>\n",
       "      <th>net_revenue_x</th>\n",
       "      <th>year_y</th>\n",
       "      <th>net_revenue_y</th>\n",
       "    </tr>\n",
       "  </thead>\n",
       "  <tbody>\n",
       "    <tr>\n",
       "      <th>0</th>\n",
       "      <td>aaaaaphwwy@gmail.com</td>\n",
       "      <td>NaN</td>\n",
       "      <td>NaN</td>\n",
       "      <td>2017</td>\n",
       "      <td>241.10</td>\n",
       "    </tr>\n",
       "    <tr>\n",
       "      <th>1</th>\n",
       "      <td>aaafxtkgxo@gmail.com</td>\n",
       "      <td>2016.0</td>\n",
       "      <td>127.62</td>\n",
       "      <td>2017</td>\n",
       "      <td>242.28</td>\n",
       "    </tr>\n",
       "    <tr>\n",
       "      <th>2</th>\n",
       "      <td>aaaiekepot@gmail.com</td>\n",
       "      <td>NaN</td>\n",
       "      <td>NaN</td>\n",
       "      <td>2017</td>\n",
       "      <td>43.68</td>\n",
       "    </tr>\n",
       "    <tr>\n",
       "      <th>3</th>\n",
       "      <td>aaaiexlzvq@gmail.com</td>\n",
       "      <td>NaN</td>\n",
       "      <td>NaN</td>\n",
       "      <td>2017</td>\n",
       "      <td>2.58</td>\n",
       "    </tr>\n",
       "    <tr>\n",
       "      <th>4</th>\n",
       "      <td>aaakcnoovj@gmail.com</td>\n",
       "      <td>NaN</td>\n",
       "      <td>NaN</td>\n",
       "      <td>2017</td>\n",
       "      <td>72.22</td>\n",
       "    </tr>\n",
       "    <tr>\n",
       "      <th>...</th>\n",
       "      <td>...</td>\n",
       "      <td>...</td>\n",
       "      <td>...</td>\n",
       "      <td>...</td>\n",
       "      <td>...</td>\n",
       "    </tr>\n",
       "    <tr>\n",
       "      <th>249982</th>\n",
       "      <td>zzzmkaruhf@gmail.com</td>\n",
       "      <td>NaN</td>\n",
       "      <td>NaN</td>\n",
       "      <td>2017</td>\n",
       "      <td>202.77</td>\n",
       "    </tr>\n",
       "    <tr>\n",
       "      <th>249983</th>\n",
       "      <td>zzznqseiwv@gmail.com</td>\n",
       "      <td>NaN</td>\n",
       "      <td>NaN</td>\n",
       "      <td>2017</td>\n",
       "      <td>162.24</td>\n",
       "    </tr>\n",
       "    <tr>\n",
       "      <th>249984</th>\n",
       "      <td>zzzoxtrfic@gmail.com</td>\n",
       "      <td>NaN</td>\n",
       "      <td>NaN</td>\n",
       "      <td>2017</td>\n",
       "      <td>15.74</td>\n",
       "    </tr>\n",
       "    <tr>\n",
       "      <th>249985</th>\n",
       "      <td>zzztmtdlbv@gmail.com</td>\n",
       "      <td>NaN</td>\n",
       "      <td>NaN</td>\n",
       "      <td>2017</td>\n",
       "      <td>81.30</td>\n",
       "    </tr>\n",
       "    <tr>\n",
       "      <th>249986</th>\n",
       "      <td>zzzzlmebab@gmail.com</td>\n",
       "      <td>NaN</td>\n",
       "      <td>NaN</td>\n",
       "      <td>2017</td>\n",
       "      <td>169.92</td>\n",
       "    </tr>\n",
       "  </tbody>\n",
       "</table>\n",
       "<p>249987 rows × 5 columns</p>\n",
       "</div>"
      ],
      "text/plain": [
       "              customer_email  year_x  net_revenue_x  year_y  net_revenue_y\n",
       "0       aaaaaphwwy@gmail.com     NaN            NaN    2017         241.10\n",
       "1       aaafxtkgxo@gmail.com  2016.0         127.62    2017         242.28\n",
       "2       aaaiekepot@gmail.com     NaN            NaN    2017          43.68\n",
       "3       aaaiexlzvq@gmail.com     NaN            NaN    2017           2.58\n",
       "4       aaakcnoovj@gmail.com     NaN            NaN    2017          72.22\n",
       "...                      ...     ...            ...     ...            ...\n",
       "249982  zzzmkaruhf@gmail.com     NaN            NaN    2017         202.77\n",
       "249983  zzznqseiwv@gmail.com     NaN            NaN    2017         162.24\n",
       "249984  zzzoxtrfic@gmail.com     NaN            NaN    2017          15.74\n",
       "249985  zzztmtdlbv@gmail.com     NaN            NaN    2017          81.30\n",
       "249986  zzzzlmebab@gmail.com     NaN            NaN    2017         169.92\n",
       "\n",
       "[249987 rows x 5 columns]"
      ]
     },
     "execution_count": 12,
     "metadata": {},
     "output_type": "execute_result"
    }
   ],
   "source": [
    "df_16.merge(df_17, on = 'customer_email',how = 'right')"
   ]
  },
  {
   "cell_type": "code",
   "execution_count": 13,
   "id": "5f3f1d2a",
   "metadata": {},
   "outputs": [],
   "source": [
    "cust_year_revenue['cust_revenue_prev_yr'] = cust_year_revenue.groupby(['customer_email']).net_revenue.shift()"
   ]
  },
  {
   "cell_type": "code",
   "execution_count": 14,
   "id": "242d3ac7",
   "metadata": {},
   "outputs": [],
   "source": [
    "cust_year_revenue['cust_revenue_prev_2_yr'] = cust_year_revenue.groupby(['customer_email']).net_revenue.shift(2)"
   ]
  },
  {
   "cell_type": "code",
   "execution_count": 15,
   "id": "11eeb006",
   "metadata": {},
   "outputs": [],
   "source": [
    "cust_year_revenue.to_csv(\"cust_year_revenue.csv\")"
   ]
  },
  {
   "cell_type": "code",
   "execution_count": 16,
   "id": "96ea3a5f",
   "metadata": {},
   "outputs": [
    {
     "data": {
      "text/html": [
       "<div>\n",
       "<style scoped>\n",
       "    .dataframe tbody tr th:only-of-type {\n",
       "        vertical-align: middle;\n",
       "    }\n",
       "\n",
       "    .dataframe tbody tr th {\n",
       "        vertical-align: top;\n",
       "    }\n",
       "\n",
       "    .dataframe thead th {\n",
       "        text-align: right;\n",
       "    }\n",
       "</style>\n",
       "<table border=\"1\" class=\"dataframe\">\n",
       "  <thead>\n",
       "    <tr style=\"text-align: right;\">\n",
       "      <th></th>\n",
       "      <th>customer_email</th>\n",
       "      <th>year</th>\n",
       "      <th>net_revenue</th>\n",
       "      <th>cust_revenue_prev_yr</th>\n",
       "      <th>cust_revenue_prev_2_yr</th>\n",
       "    </tr>\n",
       "  </thead>\n",
       "  <tbody>\n",
       "    <tr>\n",
       "      <th>4</th>\n",
       "      <td>aaafxtkgxo@gmail.com</td>\n",
       "      <td>2016</td>\n",
       "      <td>127.62</td>\n",
       "      <td>NaN</td>\n",
       "      <td>NaN</td>\n",
       "    </tr>\n",
       "    <tr>\n",
       "      <th>5</th>\n",
       "      <td>aaafxtkgxo@gmail.com</td>\n",
       "      <td>2017</td>\n",
       "      <td>242.28</td>\n",
       "      <td>127.62</td>\n",
       "      <td>NaN</td>\n",
       "    </tr>\n",
       "  </tbody>\n",
       "</table>\n",
       "</div>"
      ],
      "text/plain": [
       "         customer_email  year  net_revenue  cust_revenue_prev_yr  \\\n",
       "4  aaafxtkgxo@gmail.com  2016       127.62                   NaN   \n",
       "5  aaafxtkgxo@gmail.com  2017       242.28                127.62   \n",
       "\n",
       "   cust_revenue_prev_2_yr  \n",
       "4                     NaN  \n",
       "5                     NaN  "
      ]
     },
     "execution_count": 16,
     "metadata": {},
     "output_type": "execute_result"
    }
   ],
   "source": [
    "cust_year_revenue[cust_year_revenue['customer_email']=='aaafxtkgxo@gmail.com']"
   ]
  },
  {
   "cell_type": "code",
   "execution_count": 17,
   "id": "08831aa3",
   "metadata": {},
   "outputs": [
    {
     "data": {
      "text/html": [
       "<div>\n",
       "<style scoped>\n",
       "    .dataframe tbody tr th:only-of-type {\n",
       "        vertical-align: middle;\n",
       "    }\n",
       "\n",
       "    .dataframe tbody tr th {\n",
       "        vertical-align: top;\n",
       "    }\n",
       "\n",
       "    .dataframe thead th {\n",
       "        text-align: right;\n",
       "    }\n",
       "</style>\n",
       "<table border=\"1\" class=\"dataframe\">\n",
       "  <thead>\n",
       "    <tr style=\"text-align: right;\">\n",
       "      <th></th>\n",
       "      <th>customer_email</th>\n",
       "      <th>year</th>\n",
       "      <th>net_revenue</th>\n",
       "      <th>cust_revenue_prev_yr</th>\n",
       "      <th>cust_revenue_prev_2_yr</th>\n",
       "    </tr>\n",
       "  </thead>\n",
       "  <tbody>\n",
       "    <tr>\n",
       "      <th>685920</th>\n",
       "      <td>zzztmtdlbv@gmail.com</td>\n",
       "      <td>2017</td>\n",
       "      <td>81.3</td>\n",
       "      <td>NaN</td>\n",
       "      <td>NaN</td>\n",
       "    </tr>\n",
       "  </tbody>\n",
       "</table>\n",
       "</div>"
      ],
      "text/plain": [
       "              customer_email  year  net_revenue  cust_revenue_prev_yr  \\\n",
       "685920  zzztmtdlbv@gmail.com  2017         81.3                   NaN   \n",
       "\n",
       "        cust_revenue_prev_2_yr  \n",
       "685920                     NaN  "
      ]
     },
     "execution_count": 17,
     "metadata": {},
     "output_type": "execute_result"
    }
   ],
   "source": [
    "cust_year_revenue[cust_year_revenue['customer_email']=='zzztmtdlbv@gmail.com']"
   ]
  },
  {
   "cell_type": "code",
   "execution_count": 18,
   "id": "45e2c331",
   "metadata": {},
   "outputs": [],
   "source": [
    "cust_year_revenue['new_customer_yearwise'] = n.where(~p.isnull(cust_year_revenue['net_revenue'])\\\n",
    "                                                      & p.isnull(cust_year_revenue['cust_revenue_prev_yr'])\\\n",
    "                                                     & p.isnull(cust_year_revenue['cust_revenue_prev_2_yr']), 'New','Old')"
   ]
  },
  {
   "cell_type": "code",
   "execution_count": 19,
   "id": "d6a09e6b",
   "metadata": {},
   "outputs": [
    {
     "data": {
      "text/html": [
       "<div>\n",
       "<style scoped>\n",
       "    .dataframe tbody tr th:only-of-type {\n",
       "        vertical-align: middle;\n",
       "    }\n",
       "\n",
       "    .dataframe tbody tr th {\n",
       "        vertical-align: top;\n",
       "    }\n",
       "\n",
       "    .dataframe thead th {\n",
       "        text-align: right;\n",
       "    }\n",
       "</style>\n",
       "<table border=\"1\" class=\"dataframe\">\n",
       "  <thead>\n",
       "    <tr style=\"text-align: right;\">\n",
       "      <th>new_customer_yearwise</th>\n",
       "      <th>New</th>\n",
       "      <th>Old</th>\n",
       "    </tr>\n",
       "    <tr>\n",
       "      <th>year</th>\n",
       "      <th></th>\n",
       "      <th></th>\n",
       "    </tr>\n",
       "  </thead>\n",
       "  <tbody>\n",
       "    <tr>\n",
       "      <th>2016</th>\n",
       "      <td>17206366.90</td>\n",
       "      <td>8524576.69</td>\n",
       "    </tr>\n",
       "    <tr>\n",
       "      <th>2017</th>\n",
       "      <td>21769213.01</td>\n",
       "      <td>9648282.02</td>\n",
       "    </tr>\n",
       "  </tbody>\n",
       "</table>\n",
       "</div>"
      ],
      "text/plain": [
       "new_customer_yearwise          New         Old\n",
       "year                                          \n",
       "2016                   17206366.90  8524576.69\n",
       "2017                   21769213.01  9648282.02"
      ]
     },
     "execution_count": 19,
     "metadata": {},
     "output_type": "execute_result"
    }
   ],
   "source": [
    "new_old_revenue = cust_year_revenue[cust_year_revenue['year']!=2015].groupby(['year','new_customer_yearwise']).net_revenue.sum().unstack()\n",
    "new_old_revenue"
   ]
  },
  {
   "cell_type": "markdown",
   "id": "bd419cc7",
   "metadata": {},
   "source": [
    "## Existing Customer Growth. To calculate this, use the Revenue of existing customers for current year –(minus) Revenue of existing customers from the previous year"
   ]
  },
  {
   "cell_type": "code",
   "execution_count": 20,
   "id": "efd44274",
   "metadata": {},
   "outputs": [
    {
     "data": {
      "text/html": [
       "<div>\n",
       "<style scoped>\n",
       "    .dataframe tbody tr th:only-of-type {\n",
       "        vertical-align: middle;\n",
       "    }\n",
       "\n",
       "    .dataframe tbody tr th {\n",
       "        vertical-align: top;\n",
       "    }\n",
       "\n",
       "    .dataframe thead th {\n",
       "        text-align: right;\n",
       "    }\n",
       "</style>\n",
       "<table border=\"1\" class=\"dataframe\">\n",
       "  <thead>\n",
       "    <tr style=\"text-align: right;\">\n",
       "      <th>new_customer_yearwise</th>\n",
       "      <th>New</th>\n",
       "      <th>Old</th>\n",
       "    </tr>\n",
       "    <tr>\n",
       "      <th>year</th>\n",
       "      <th></th>\n",
       "      <th></th>\n",
       "    </tr>\n",
       "  </thead>\n",
       "  <tbody>\n",
       "    <tr>\n",
       "      <th>2016</th>\n",
       "      <td>17206366.90</td>\n",
       "      <td>8524576.69</td>\n",
       "    </tr>\n",
       "    <tr>\n",
       "      <th>2017</th>\n",
       "      <td>21769213.01</td>\n",
       "      <td>9648282.02</td>\n",
       "    </tr>\n",
       "    <tr>\n",
       "      <th>Growth</th>\n",
       "      <td>4562846.11</td>\n",
       "      <td>1123705.33</td>\n",
       "    </tr>\n",
       "  </tbody>\n",
       "</table>\n",
       "</div>"
      ],
      "text/plain": [
       "new_customer_yearwise          New         Old\n",
       "year                                          \n",
       "2016                   17206366.90  8524576.69\n",
       "2017                   21769213.01  9648282.02\n",
       "Growth                  4562846.11  1123705.33"
      ]
     },
     "execution_count": 20,
     "metadata": {},
     "output_type": "execute_result"
    }
   ],
   "source": [
    "new_old_revenue.loc['Growth',:] = new_old_revenue.loc[2017,:] - new_old_revenue.loc[2016,:] \n",
    "new_old_revenue"
   ]
  },
  {
   "cell_type": "code",
   "execution_count": 21,
   "id": "95eb9952",
   "metadata": {},
   "outputs": [
    {
     "data": {
      "text/plain": [
       "1123705.33"
      ]
     },
     "execution_count": 21,
     "metadata": {},
     "output_type": "execute_result"
    }
   ],
   "source": [
    "new_old_revenue.loc['Growth','Old']"
   ]
  },
  {
   "cell_type": "markdown",
   "id": "58b77e57",
   "metadata": {},
   "source": [
    "## Revenue lost from attrition"
   ]
  },
  {
   "cell_type": "code",
   "execution_count": 22,
   "id": "b5b9cd6e",
   "metadata": {},
   "outputs": [
    {
     "data": {
      "text/html": [
       "<div>\n",
       "<style scoped>\n",
       "    .dataframe tbody tr th:only-of-type {\n",
       "        vertical-align: middle;\n",
       "    }\n",
       "\n",
       "    .dataframe tbody tr th {\n",
       "        vertical-align: top;\n",
       "    }\n",
       "\n",
       "    .dataframe thead th {\n",
       "        text-align: right;\n",
       "    }\n",
       "</style>\n",
       "<table border=\"1\" class=\"dataframe\">\n",
       "  <thead>\n",
       "    <tr style=\"text-align: right;\">\n",
       "      <th>year</th>\n",
       "      <th>2015</th>\n",
       "      <th>2016</th>\n",
       "      <th>2017</th>\n",
       "    </tr>\n",
       "    <tr>\n",
       "      <th>customer_email</th>\n",
       "      <th></th>\n",
       "      <th></th>\n",
       "      <th></th>\n",
       "    </tr>\n",
       "  </thead>\n",
       "  <tbody>\n",
       "    <tr>\n",
       "      <th>aaaaaphwwy@gmail.com</th>\n",
       "      <td>NaN</td>\n",
       "      <td>NaN</td>\n",
       "      <td>241.10</td>\n",
       "    </tr>\n",
       "    <tr>\n",
       "      <th>aaabbviidb@gmail.com</th>\n",
       "      <td>133.07</td>\n",
       "      <td>NaN</td>\n",
       "      <td>NaN</td>\n",
       "    </tr>\n",
       "    <tr>\n",
       "      <th>aaaewsybit@gmail.com</th>\n",
       "      <td>184.55</td>\n",
       "      <td>NaN</td>\n",
       "      <td>NaN</td>\n",
       "    </tr>\n",
       "    <tr>\n",
       "      <th>aaafiismkd@gmail.com</th>\n",
       "      <td>113.28</td>\n",
       "      <td>NaN</td>\n",
       "      <td>NaN</td>\n",
       "    </tr>\n",
       "    <tr>\n",
       "      <th>aaafxtkgxo@gmail.com</th>\n",
       "      <td>NaN</td>\n",
       "      <td>127.62</td>\n",
       "      <td>242.28</td>\n",
       "    </tr>\n",
       "    <tr>\n",
       "      <th>...</th>\n",
       "      <td>...</td>\n",
       "      <td>...</td>\n",
       "      <td>...</td>\n",
       "    </tr>\n",
       "    <tr>\n",
       "      <th>zzzuzmfsii@gmail.com</th>\n",
       "      <td>NaN</td>\n",
       "      <td>230.79</td>\n",
       "      <td>NaN</td>\n",
       "    </tr>\n",
       "    <tr>\n",
       "      <th>zzzwmlwwmn@gmail.com</th>\n",
       "      <td>NaN</td>\n",
       "      <td>98.01</td>\n",
       "      <td>NaN</td>\n",
       "    </tr>\n",
       "    <tr>\n",
       "      <th>zzzxxclrua@gmail.com</th>\n",
       "      <td>57.24</td>\n",
       "      <td>NaN</td>\n",
       "      <td>NaN</td>\n",
       "    </tr>\n",
       "    <tr>\n",
       "      <th>zzzywggdqt@gmail.com</th>\n",
       "      <td>118.56</td>\n",
       "      <td>NaN</td>\n",
       "      <td>NaN</td>\n",
       "    </tr>\n",
       "    <tr>\n",
       "      <th>zzzzlmebab@gmail.com</th>\n",
       "      <td>NaN</td>\n",
       "      <td>NaN</td>\n",
       "      <td>169.92</td>\n",
       "    </tr>\n",
       "  </tbody>\n",
       "</table>\n",
       "<p>541634 rows × 3 columns</p>\n",
       "</div>"
      ],
      "text/plain": [
       "year                    2015    2016    2017\n",
       "customer_email                              \n",
       "aaaaaphwwy@gmail.com     NaN     NaN  241.10\n",
       "aaabbviidb@gmail.com  133.07     NaN     NaN\n",
       "aaaewsybit@gmail.com  184.55     NaN     NaN\n",
       "aaafiismkd@gmail.com  113.28     NaN     NaN\n",
       "aaafxtkgxo@gmail.com     NaN  127.62  242.28\n",
       "...                      ...     ...     ...\n",
       "zzzuzmfsii@gmail.com     NaN  230.79     NaN\n",
       "zzzwmlwwmn@gmail.com     NaN   98.01     NaN\n",
       "zzzxxclrua@gmail.com   57.24     NaN     NaN\n",
       "zzzywggdqt@gmail.com  118.56     NaN     NaN\n",
       "zzzzlmebab@gmail.com     NaN     NaN  169.92\n",
       "\n",
       "[541634 rows x 3 columns]"
      ]
     },
     "execution_count": 22,
     "metadata": {},
     "output_type": "execute_result"
    }
   ],
   "source": [
    "# p.crosstab(data['year'],data['customer_email'])\n",
    "customers_churned_15_17 = p.pivot_table(data = cust_year_revenue ,columns = 'year',index = 'customer_email',aggfunc = n.sum ,values = 'net_revenue')\n",
    "customers_churned_15_17"
   ]
  },
  {
   "cell_type": "code",
   "execution_count": 23,
   "id": "0eb28457",
   "metadata": {
    "scrolled": true
   },
   "outputs": [
    {
     "data": {
      "text/html": [
       "<div>\n",
       "<style scoped>\n",
       "    .dataframe tbody tr th:only-of-type {\n",
       "        vertical-align: middle;\n",
       "    }\n",
       "\n",
       "    .dataframe tbody tr th {\n",
       "        vertical-align: top;\n",
       "    }\n",
       "\n",
       "    .dataframe thead th {\n",
       "        text-align: right;\n",
       "    }\n",
       "</style>\n",
       "<table border=\"1\" class=\"dataframe\">\n",
       "  <thead>\n",
       "    <tr style=\"text-align: right;\">\n",
       "      <th>year</th>\n",
       "      <th>2015</th>\n",
       "      <th>2016</th>\n",
       "      <th>2017</th>\n",
       "    </tr>\n",
       "    <tr>\n",
       "      <th>customer_email</th>\n",
       "      <th></th>\n",
       "      <th></th>\n",
       "      <th></th>\n",
       "    </tr>\n",
       "  </thead>\n",
       "  <tbody>\n",
       "    <tr>\n",
       "      <th>aaabbviidb@gmail.com</th>\n",
       "      <td>133.07</td>\n",
       "      <td>NaN</td>\n",
       "      <td>NaN</td>\n",
       "    </tr>\n",
       "    <tr>\n",
       "      <th>aaaewsybit@gmail.com</th>\n",
       "      <td>184.55</td>\n",
       "      <td>NaN</td>\n",
       "      <td>NaN</td>\n",
       "    </tr>\n",
       "    <tr>\n",
       "      <th>aaafiismkd@gmail.com</th>\n",
       "      <td>113.28</td>\n",
       "      <td>NaN</td>\n",
       "      <td>NaN</td>\n",
       "    </tr>\n",
       "    <tr>\n",
       "      <th>aaagldjgdt@gmail.com</th>\n",
       "      <td>44.72</td>\n",
       "      <td>NaN</td>\n",
       "      <td>NaN</td>\n",
       "    </tr>\n",
       "    <tr>\n",
       "      <th>aaaicvtnzx@gmail.com</th>\n",
       "      <td>49.20</td>\n",
       "      <td>NaN</td>\n",
       "      <td>NaN</td>\n",
       "    </tr>\n",
       "    <tr>\n",
       "      <th>...</th>\n",
       "      <td>...</td>\n",
       "      <td>...</td>\n",
       "      <td>...</td>\n",
       "    </tr>\n",
       "    <tr>\n",
       "      <th>zzzklahhms@gmail.com</th>\n",
       "      <td>134.25</td>\n",
       "      <td>NaN</td>\n",
       "      <td>NaN</td>\n",
       "    </tr>\n",
       "    <tr>\n",
       "      <th>zzzrjsowtl@gmail.com</th>\n",
       "      <td>95.80</td>\n",
       "      <td>NaN</td>\n",
       "      <td>NaN</td>\n",
       "    </tr>\n",
       "    <tr>\n",
       "      <th>zzztwcvgvp@gmail.com</th>\n",
       "      <td>129.75</td>\n",
       "      <td>NaN</td>\n",
       "      <td>NaN</td>\n",
       "    </tr>\n",
       "    <tr>\n",
       "      <th>zzzxxclrua@gmail.com</th>\n",
       "      <td>57.24</td>\n",
       "      <td>NaN</td>\n",
       "      <td>NaN</td>\n",
       "    </tr>\n",
       "    <tr>\n",
       "      <th>zzzywggdqt@gmail.com</th>\n",
       "      <td>118.56</td>\n",
       "      <td>NaN</td>\n",
       "      <td>NaN</td>\n",
       "    </tr>\n",
       "  </tbody>\n",
       "</table>\n",
       "<p>163539 rows × 3 columns</p>\n",
       "</div>"
      ],
      "text/plain": [
       "year                    2015  2016  2017\n",
       "customer_email                          \n",
       "aaabbviidb@gmail.com  133.07   NaN   NaN\n",
       "aaaewsybit@gmail.com  184.55   NaN   NaN\n",
       "aaafiismkd@gmail.com  113.28   NaN   NaN\n",
       "aaagldjgdt@gmail.com   44.72   NaN   NaN\n",
       "aaaicvtnzx@gmail.com   49.20   NaN   NaN\n",
       "...                      ...   ...   ...\n",
       "zzzklahhms@gmail.com  134.25   NaN   NaN\n",
       "zzzrjsowtl@gmail.com   95.80   NaN   NaN\n",
       "zzztwcvgvp@gmail.com  129.75   NaN   NaN\n",
       "zzzxxclrua@gmail.com   57.24   NaN   NaN\n",
       "zzzywggdqt@gmail.com  118.56   NaN   NaN\n",
       "\n",
       "[163539 rows x 3 columns]"
      ]
     },
     "execution_count": 23,
     "metadata": {},
     "output_type": "execute_result"
    }
   ],
   "source": [
    "customers_churned_15_17[~p.isnull(customers_churned_15_17[2015]) \\\n",
    "                        & p.isnull(customers_churned_15_17[2016]) & \\\n",
    "                        p.isnull(customers_churned_15_17[2017])]"
   ]
  },
  {
   "cell_type": "markdown",
   "id": "186e68bd",
   "metadata": {},
   "source": [
    "## Revenue lost from attrition"
   ]
  },
  {
   "cell_type": "code",
   "execution_count": 24,
   "id": "45b3881d",
   "metadata": {},
   "outputs": [
    {
     "data": {
      "text/plain": [
       "41102432.3"
      ]
     },
     "execution_count": 24,
     "metadata": {},
     "output_type": "execute_result"
    }
   ],
   "source": [
    "#revenue lost due to customers not purchasing back in 2016 and 2017. \n",
    "#Assuming they would buy have same amount of purchase in both years\n",
    "\n",
    "customers_churned_15_17[~p.isnull(customers_churned_15_17[2015]) &\\\n",
    "                        p.isnull(customers_churned_15_17[2016]) & \\\n",
    "                        p.isnull(customers_churned_15_17[2017])][2015].sum()*2"
   ]
  },
  {
   "cell_type": "code",
   "execution_count": 25,
   "id": "b2f69290",
   "metadata": {},
   "outputs": [
    {
     "data": {
      "text/plain": [
       "5350184.100000001"
      ]
     },
     "execution_count": 25,
     "metadata": {},
     "output_type": "execute_result"
    }
   ],
   "source": [
    "customers_churned_15_17[~p.isnull(customers_churned_15_17[2015]) & \\\n",
    "                        ~p.isnull(customers_churned_15_17[2016]) & \\\n",
    "                        p.isnull(customers_churned_15_17[2017])][2016].sum()"
   ]
  },
  {
   "cell_type": "code",
   "execution_count": 26,
   "id": "d21f961e",
   "metadata": {},
   "outputs": [],
   "source": [
    "#attrition is when you joined in some year and after that never ordered again in next year\n",
    "#when the customer has not interacted with or purchased from the company.\n",
    "\n",
    "##Ways to do??\n",
    "#2015 mein purchase kiya but 2016 and 2017 mein nahi kiya\n",
    "#2016 mein purchase kiya but 2017 mein nahi kiya\n",
    "\n",
    "#purchase per year for customer\n",
    "#churn year\n"
   ]
  },
  {
   "cell_type": "code",
   "execution_count": null,
   "id": "ef67d246",
   "metadata": {},
   "outputs": [],
   "source": []
  },
  {
   "cell_type": "markdown",
   "id": "dc7c70c0",
   "metadata": {},
   "source": [
    "## Existing Customer Revenue Current Year"
   ]
  },
  {
   "cell_type": "code",
   "execution_count": 27,
   "id": "5c6b4a7f",
   "metadata": {},
   "outputs": [
    {
     "data": {
      "text/plain": [
       "9648282.02"
      ]
     },
     "execution_count": 27,
     "metadata": {},
     "output_type": "execute_result"
    }
   ],
   "source": [
    "new_old_revenue.loc[2017,'Old']"
   ]
  },
  {
   "cell_type": "markdown",
   "id": "e12051ec",
   "metadata": {},
   "source": [
    "## Existing Customer Revenue Prior Year"
   ]
  },
  {
   "cell_type": "code",
   "execution_count": 28,
   "id": "fa69ade8",
   "metadata": {},
   "outputs": [
    {
     "data": {
      "text/plain": [
       "8524576.69"
      ]
     },
     "execution_count": 28,
     "metadata": {},
     "output_type": "execute_result"
    }
   ],
   "source": [
    "new_old_revenue.loc[2016,'Old']"
   ]
  },
  {
   "cell_type": "markdown",
   "id": "9564fee3",
   "metadata": {},
   "source": [
    "## Total Customers Current Year"
   ]
  },
  {
   "cell_type": "code",
   "execution_count": 29,
   "id": "6ef76e6e",
   "metadata": {},
   "outputs": [
    {
     "data": {
      "text/plain": [
       "249987"
      ]
     },
     "execution_count": 29,
     "metadata": {},
     "output_type": "execute_result"
    }
   ],
   "source": [
    "cust_year_revenue[(cust_year_revenue['year'] == 2017)&\\\n",
    "                  (~p.isnull(cust_year_revenue['net_revenue']))]['customer_email'].count()"
   ]
  },
  {
   "cell_type": "markdown",
   "id": "d807e686",
   "metadata": {},
   "source": [
    "## Total Customers Previous Year"
   ]
  },
  {
   "cell_type": "code",
   "execution_count": 30,
   "id": "b5ab002d",
   "metadata": {},
   "outputs": [
    {
     "data": {
      "text/plain": [
       "204646"
      ]
     },
     "execution_count": 30,
     "metadata": {},
     "output_type": "execute_result"
    }
   ],
   "source": [
    "# I assumed that previous customers mean only those customers who did some purchasing in 2016\n",
    "cust_year_revenue[(cust_year_revenue['year'] == 2016)&\\\n",
    "                  (~p.isnull(cust_year_revenue['net_revenue']))]['customer_email'].count()"
   ]
  },
  {
   "cell_type": "markdown",
   "id": "373159e7",
   "metadata": {},
   "source": [
    "## New Customers"
   ]
  },
  {
   "cell_type": "code",
   "execution_count": 62,
   "id": "8b480212",
   "metadata": {},
   "outputs": [
    {
     "data": {
      "text/html": [
       "<div>\n",
       "<style scoped>\n",
       "    .dataframe tbody tr th:only-of-type {\n",
       "        vertical-align: middle;\n",
       "    }\n",
       "\n",
       "    .dataframe tbody tr th {\n",
       "        vertical-align: top;\n",
       "    }\n",
       "\n",
       "    .dataframe thead th {\n",
       "        text-align: right;\n",
       "    }\n",
       "</style>\n",
       "<table border=\"1\" class=\"dataframe\">\n",
       "  <thead>\n",
       "    <tr style=\"text-align: right;\">\n",
       "      <th>new_customer_yearwise</th>\n",
       "      <th>New</th>\n",
       "      <th>Old</th>\n",
       "      <th>percent</th>\n",
       "    </tr>\n",
       "    <tr>\n",
       "      <th>year</th>\n",
       "      <th></th>\n",
       "      <th></th>\n",
       "      <th></th>\n",
       "    </tr>\n",
       "  </thead>\n",
       "  <tbody>\n",
       "    <tr>\n",
       "      <th>2016</th>\n",
       "      <td>136891</td>\n",
       "      <td>67755</td>\n",
       "      <td>66.891608</td>\n",
       "    </tr>\n",
       "    <tr>\n",
       "      <th>2017</th>\n",
       "      <td>173449</td>\n",
       "      <td>76538</td>\n",
       "      <td>69.383208</td>\n",
       "    </tr>\n",
       "  </tbody>\n",
       "</table>\n",
       "</div>"
      ],
      "text/plain": [
       "new_customer_yearwise     New    Old    percent\n",
       "year                                           \n",
       "2016                   136891  67755  66.891608\n",
       "2017                   173449  76538  69.383208"
      ]
     },
     "execution_count": 62,
     "metadata": {},
     "output_type": "execute_result"
    }
   ],
   "source": [
    "new_old_count = cust_year_revenue[cust_year_revenue['year']!=2015]\\\n",
    ".groupby(['year','new_customer_yearwise']).customer_email.count().unstack()\n",
    "new_old_count\n",
    "new_old_count['percent'] = new_old_count['New']/(new_old_count['New']+new_old_count['Old'])*100\n",
    "new_old_count"
   ]
  },
  {
   "cell_type": "code",
   "execution_count": 32,
   "id": "ea279738",
   "metadata": {},
   "outputs": [
    {
     "data": {
      "text/plain": [
       "year\n",
       "2016    136891\n",
       "2017    173449\n",
       "Name: New, dtype: int64"
      ]
     },
     "execution_count": 32,
     "metadata": {},
     "output_type": "execute_result"
    }
   ],
   "source": [
    "new_old_count['New']"
   ]
  },
  {
   "cell_type": "markdown",
   "id": "dc8c817d",
   "metadata": {},
   "source": [
    "## Old Customers"
   ]
  },
  {
   "cell_type": "code",
   "execution_count": 33,
   "id": "8ee78510",
   "metadata": {
    "scrolled": true
   },
   "outputs": [
    {
     "data": {
      "text/plain": [
       "year\n",
       "2016    67755\n",
       "2017    76538\n",
       "Name: Old, dtype: int64"
      ]
     },
     "execution_count": 33,
     "metadata": {},
     "output_type": "execute_result"
    }
   ],
   "source": [
    "new_old_count['Old']"
   ]
  },
  {
   "cell_type": "markdown",
   "id": "35211060",
   "metadata": {},
   "source": [
    "## Lost Customers"
   ]
  },
  {
   "cell_type": "code",
   "execution_count": 64,
   "id": "71a99f1d",
   "metadata": {
    "scrolled": true
   },
   "outputs": [
    {
     "data": {
      "text/html": [
       "<div>\n",
       "<style scoped>\n",
       "    .dataframe tbody tr th:only-of-type {\n",
       "        vertical-align: middle;\n",
       "    }\n",
       "\n",
       "    .dataframe tbody tr th {\n",
       "        vertical-align: top;\n",
       "    }\n",
       "\n",
       "    .dataframe thead th {\n",
       "        text-align: right;\n",
       "    }\n",
       "</style>\n",
       "<table border=\"1\" class=\"dataframe\">\n",
       "  <thead>\n",
       "    <tr style=\"text-align: right;\">\n",
       "      <th>year</th>\n",
       "      <th>2015</th>\n",
       "      <th>2016</th>\n",
       "      <th>2017</th>\n",
       "      <th>%change</th>\n",
       "      <th>revenue_cat</th>\n",
       "    </tr>\n",
       "    <tr>\n",
       "      <th>customer_email</th>\n",
       "      <th></th>\n",
       "      <th></th>\n",
       "      <th></th>\n",
       "      <th></th>\n",
       "      <th></th>\n",
       "    </tr>\n",
       "  </thead>\n",
       "  <tbody>\n",
       "    <tr>\n",
       "      <th>aaaaaphwwy@gmail.com</th>\n",
       "      <td>NaN</td>\n",
       "      <td>NaN</td>\n",
       "      <td>241.10</td>\n",
       "      <td>NaN</td>\n",
       "      <td>&lt;=125</td>\n",
       "    </tr>\n",
       "    <tr>\n",
       "      <th>aaabbviidb@gmail.com</th>\n",
       "      <td>133.07</td>\n",
       "      <td>NaN</td>\n",
       "      <td>NaN</td>\n",
       "      <td>NaN</td>\n",
       "      <td>&gt;125</td>\n",
       "    </tr>\n",
       "    <tr>\n",
       "      <th>aaaewsybit@gmail.com</th>\n",
       "      <td>184.55</td>\n",
       "      <td>NaN</td>\n",
       "      <td>NaN</td>\n",
       "      <td>NaN</td>\n",
       "      <td>&gt;125</td>\n",
       "    </tr>\n",
       "    <tr>\n",
       "      <th>aaafiismkd@gmail.com</th>\n",
       "      <td>113.28</td>\n",
       "      <td>NaN</td>\n",
       "      <td>NaN</td>\n",
       "      <td>NaN</td>\n",
       "      <td>&lt;=125</td>\n",
       "    </tr>\n",
       "    <tr>\n",
       "      <th>aaafxtkgxo@gmail.com</th>\n",
       "      <td>NaN</td>\n",
       "      <td>127.62</td>\n",
       "      <td>242.28</td>\n",
       "      <td>NaN</td>\n",
       "      <td>&lt;=125</td>\n",
       "    </tr>\n",
       "    <tr>\n",
       "      <th>...</th>\n",
       "      <td>...</td>\n",
       "      <td>...</td>\n",
       "      <td>...</td>\n",
       "      <td>...</td>\n",
       "      <td>...</td>\n",
       "    </tr>\n",
       "    <tr>\n",
       "      <th>zzzuzmfsii@gmail.com</th>\n",
       "      <td>NaN</td>\n",
       "      <td>230.79</td>\n",
       "      <td>NaN</td>\n",
       "      <td>NaN</td>\n",
       "      <td>&lt;=125</td>\n",
       "    </tr>\n",
       "    <tr>\n",
       "      <th>zzzwmlwwmn@gmail.com</th>\n",
       "      <td>NaN</td>\n",
       "      <td>98.01</td>\n",
       "      <td>NaN</td>\n",
       "      <td>NaN</td>\n",
       "      <td>&lt;=125</td>\n",
       "    </tr>\n",
       "    <tr>\n",
       "      <th>zzzxxclrua@gmail.com</th>\n",
       "      <td>57.24</td>\n",
       "      <td>NaN</td>\n",
       "      <td>NaN</td>\n",
       "      <td>NaN</td>\n",
       "      <td>&lt;=125</td>\n",
       "    </tr>\n",
       "    <tr>\n",
       "      <th>zzzywggdqt@gmail.com</th>\n",
       "      <td>118.56</td>\n",
       "      <td>NaN</td>\n",
       "      <td>NaN</td>\n",
       "      <td>NaN</td>\n",
       "      <td>&lt;=125</td>\n",
       "    </tr>\n",
       "    <tr>\n",
       "      <th>zzzzlmebab@gmail.com</th>\n",
       "      <td>NaN</td>\n",
       "      <td>NaN</td>\n",
       "      <td>169.92</td>\n",
       "      <td>NaN</td>\n",
       "      <td>&lt;=125</td>\n",
       "    </tr>\n",
       "  </tbody>\n",
       "</table>\n",
       "<p>541634 rows × 5 columns</p>\n",
       "</div>"
      ],
      "text/plain": [
       "year                    2015    2016    2017  %change revenue_cat\n",
       "customer_email                                                   \n",
       "aaaaaphwwy@gmail.com     NaN     NaN  241.10      NaN       <=125\n",
       "aaabbviidb@gmail.com  133.07     NaN     NaN      NaN        >125\n",
       "aaaewsybit@gmail.com  184.55     NaN     NaN      NaN        >125\n",
       "aaafiismkd@gmail.com  113.28     NaN     NaN      NaN       <=125\n",
       "aaafxtkgxo@gmail.com     NaN  127.62  242.28      NaN       <=125\n",
       "...                      ...     ...     ...      ...         ...\n",
       "zzzuzmfsii@gmail.com     NaN  230.79     NaN      NaN       <=125\n",
       "zzzwmlwwmn@gmail.com     NaN   98.01     NaN      NaN       <=125\n",
       "zzzxxclrua@gmail.com   57.24     NaN     NaN      NaN       <=125\n",
       "zzzywggdqt@gmail.com  118.56     NaN     NaN      NaN       <=125\n",
       "zzzzlmebab@gmail.com     NaN     NaN  169.92      NaN       <=125\n",
       "\n",
       "[541634 rows x 5 columns]"
      ]
     },
     "execution_count": 64,
     "metadata": {},
     "output_type": "execute_result"
    }
   ],
   "source": [
    "customers_churned_15_17"
   ]
  },
  {
   "cell_type": "markdown",
   "id": "8e1285b5",
   "metadata": {},
   "source": [
    "## Lost Customers"
   ]
  },
  {
   "cell_type": "code",
   "execution_count": 67,
   "id": "b31b3825",
   "metadata": {},
   "outputs": [
    {
     "data": {
      "text/plain": [
       "42469"
      ]
     },
     "execution_count": 67,
     "metadata": {},
     "output_type": "execute_result"
    }
   ],
   "source": [
    "#Assuming customers which were present in 2015, 2016 but were lost in 2017\n",
    "customers_churned_15_17[~p.isnull(customers_churned_15_17[2015]) & \\\n",
    "                        ~p.isnull(customers_churned_15_17[2016]) & \\\n",
    "                        p.isnull(customers_churned_15_17[2017])].reset_index()['customer_email'].count()"
   ]
  }
 ],
 "metadata": {
  "kernelspec": {
   "display_name": "Python 3 (ipykernel)",
   "language": "python",
   "name": "python3"
  },
  "language_info": {
   "codemirror_mode": {
    "name": "ipython",
    "version": 3
   },
   "file_extension": ".py",
   "mimetype": "text/x-python",
   "name": "python",
   "nbconvert_exporter": "python",
   "pygments_lexer": "ipython3",
   "version": "3.8.8"
  }
 },
 "nbformat": 4,
 "nbformat_minor": 5
}
